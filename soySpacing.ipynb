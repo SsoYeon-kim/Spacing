{
 "cells": [
  {
   "cell_type": "code",
   "execution_count": 18,
   "id": "444e2eb7",
   "metadata": {},
   "outputs": [
    {
     "name": "stdout",
     "output_type": "stream",
     "text": [
      "Defaulting to user installation because normal site-packages is not writeable\n",
      "Collecting soyspacing\n",
      "  Downloading soyspacing-1.0.17-py3-none-any.whl (10 kB)\n",
      "Requirement already satisfied: numpy>=1.12.0 in /home/xtrmstt/.local/lib/python3.7/site-packages (from soyspacing) (1.19.5)\n",
      "Installing collected packages: soyspacing\n",
      "Successfully installed soyspacing-1.0.17\n"
     ]
    }
   ],
   "source": [
    "!pip install soyspacing"
   ]
  },
  {
   "cell_type": "code",
   "execution_count": 57,
   "id": "f9f615a9",
   "metadata": {},
   "outputs": [],
   "source": [
    "from soyspacing.countbase import CountSpace\n",
    "from soyspacing.countbase import RuleDict"
   ]
  },
  {
   "cell_type": "code",
   "execution_count": 45,
   "id": "baaa17fc",
   "metadata": {},
   "outputs": [
    {
     "name": "stdout",
     "output_type": "stream",
     "text": [
      "all tags length = 654328 --> 53317, (num_doc = 15598)"
     ]
    }
   ],
   "source": [
    "corpus_fname = 'norm.txt'\n",
    "model = CountSpace()\n",
    "model.train(corpus_fname)"
   ]
  },
  {
   "cell_type": "code",
   "execution_count": 46,
   "id": "b430417b",
   "metadata": {},
   "outputs": [],
   "source": [
    "model_fname = 'soyspacing_model'\n",
    "model.save_model(model_fname, json_format=False)\n",
    "\n",
    "#모델 불러오기\n",
    "model2 = CountSpace()\n",
    "model2.load_model(model_fname, json_format=False)"
   ]
  },
  {
   "cell_type": "code",
   "execution_count": 47,
   "id": "636c9c2d",
   "metadata": {},
   "outputs": [
    {
     "name": "stdout",
     "output_type": "stream",
     "text": [
      "before: 이건진짜좋은영화 라라랜드진짜좋은영화\n",
      "after : 이건 진짜 좋은 영화 라라랜드진짜 좋은 영화\n",
      "[0, 1, 0, 1, 0, 1, 0, 1, 0, 0, 0, None, None, 1, 0, 1, 0, 1]\n"
     ]
    }
   ],
   "source": [
    "verbose=False\n",
    "mc = 10  # min_count\n",
    "ft = 0.3 # force_abs_threshold\n",
    "nt =-0.3 # nonspace_threshold\n",
    "st = 0.3 # space_threshold\n",
    "\n",
    "sent = '이건진짜좋은영화 라라랜드진짜좋은영화'\n",
    "\n",
    "sent_corrected, tags = model.correct(\n",
    "    doc=sent,\n",
    "    verbose=verbose,\n",
    "    force_abs_threshold=ft,\n",
    "    nonspace_threshold=nt,\n",
    "    space_threshold=st,\n",
    "    min_count=mc)\n",
    "\n",
    "print('before: %s' % sent)\n",
    "print('after : %s' % sent_corrected)\n",
    "\n",
    "# 0:붙여쓰기 / 1:띄어쓰기 / None:min count or nonspace,space threshold 사이에 spacr score로 판단을 유보\n",
    "print(tags)"
   ]
  },
  {
   "cell_type": "code",
   "execution_count": 58,
   "id": "bc8fcdad",
   "metadata": {},
   "outputs": [
    {
     "name": "stdout",
     "output_type": "stream",
     "text": [
      "{'진짜': (1, 0, 1), '대박': (1, 0, 1)}\n"
     ]
    }
   ],
   "source": [
    "rule_fnames = ['space_rules.txt']\n",
    "\n",
    "rule_dict = RuleDict(rule_fnames)\n",
    "print(rule_dict.rule_dict)"
   ]
  },
  {
   "cell_type": "code",
   "execution_count": 64,
   "id": "1a70f8e7",
   "metadata": {},
   "outputs": [
    {
     "name": "stdout",
     "output_type": "stream",
     "text": [
      "이건 진짜 좋은 영화 라라랜드 진짜 좋은 영화\n"
     ]
    }
   ],
   "source": [
    "sent_corrected, tags = model.correct(sent, rules=rule_dict)\n",
    "print(sent_corrected)"
   ]
  }
 ],
 "metadata": {
  "kernelspec": {
   "display_name": "Python 3 (ipykernel)",
   "language": "python",
   "name": "python3"
  },
  "language_info": {
   "codemirror_mode": {
    "name": "ipython",
    "version": 3
   },
   "file_extension": ".py",
   "mimetype": "text/x-python",
   "name": "python",
   "nbconvert_exporter": "python",
   "pygments_lexer": "ipython3",
   "version": "3.7.9"
  }
 },
 "nbformat": 4,
 "nbformat_minor": 5
}
