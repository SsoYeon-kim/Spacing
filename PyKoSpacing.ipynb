{
 "cells": [
  {
   "cell_type": "code",
   "execution_count": 7,
   "id": "df2b4529",
   "metadata": {},
   "outputs": [
    {
     "name": "stdout",
     "output_type": "stream",
     "text": [
      "Defaulting to user installation because normal site-packages is not writeable\n",
      "Collecting git+https://github.com/haven-jeon/PyKoSpacing.git\n",
      "  Cloning https://github.com/haven-jeon/PyKoSpacing.git to /tmp/pip-req-build-qrucixc2\n",
      "  Running command git clone --filter=blob:none --quiet https://github.com/haven-jeon/PyKoSpacing.git /tmp/pip-req-build-qrucixc2\n",
      "  Resolved https://github.com/haven-jeon/PyKoSpacing.git to commit d8f2b1cb9c904e5a6a181bbf6aeee44fc6e9eab1\n",
      "  Preparing metadata (setup.py) ... \u001b[?25ldone\n",
      "\u001b[?25hRequirement already satisfied: tensorflow==2.5.3 in /home/xtrmstt/.local/lib/python3.7/site-packages (from pykospacing==0.5) (2.5.3)\n",
      "Requirement already satisfied: h5py==3.1.0 in /home/xtrmstt/.local/lib/python3.7/site-packages (from pykospacing==0.5) (3.1.0)\n",
      "Collecting argparse>=1.4.0\n",
      "  Using cached argparse-1.4.0-py2.py3-none-any.whl (23 kB)\n",
      "Requirement already satisfied: numpy>=1.14.5 in /home/xtrmstt/.local/lib/python3.7/site-packages (from h5py==3.1.0->pykospacing==0.5) (1.19.5)\n",
      "Requirement already satisfied: cached-property in /home/xtrmstt/.local/lib/python3.7/site-packages (from h5py==3.1.0->pykospacing==0.5) (1.5.2)\n",
      "Requirement already satisfied: absl-py~=0.10 in /home/xtrmstt/.local/lib/python3.7/site-packages (from tensorflow==2.5.3->pykospacing==0.5) (0.15.0)\n",
      "Requirement already satisfied: google-pasta~=0.2 in /home/xtrmstt/.local/lib/python3.7/site-packages (from tensorflow==2.5.3->pykospacing==0.5) (0.2.0)\n",
      "Requirement already satisfied: flatbuffers~=1.12.0 in /home/xtrmstt/.local/lib/python3.7/site-packages (from tensorflow==2.5.3->pykospacing==0.5) (1.12)\n",
      "Requirement already satisfied: opt-einsum~=3.3.0 in /home/xtrmstt/.local/lib/python3.7/site-packages (from tensorflow==2.5.3->pykospacing==0.5) (3.3.0)\n",
      "Requirement already satisfied: keras-nightly~=2.5.0.dev in /home/xtrmstt/.local/lib/python3.7/site-packages (from tensorflow==2.5.3->pykospacing==0.5) (2.5.0.dev2021032900)\n",
      "Requirement already satisfied: tensorflow-estimator<2.6.0,>=2.5.0 in /home/xtrmstt/.local/lib/python3.7/site-packages (from tensorflow==2.5.3->pykospacing==0.5) (2.5.0)\n",
      "Requirement already satisfied: protobuf>=3.9.2 in /home/xtrmstt/.local/lib/python3.7/site-packages (from tensorflow==2.5.3->pykospacing==0.5) (3.20.0)\n",
      "Requirement already satisfied: grpcio~=1.34.0 in /home/xtrmstt/.local/lib/python3.7/site-packages (from tensorflow==2.5.3->pykospacing==0.5) (1.34.1)\n",
      "Requirement already satisfied: keras-preprocessing~=1.1.2 in /home/xtrmstt/.local/lib/python3.7/site-packages (from tensorflow==2.5.3->pykospacing==0.5) (1.1.2)\n",
      "Requirement already satisfied: wrapt~=1.12.1 in /home/xtrmstt/.local/lib/python3.7/site-packages (from tensorflow==2.5.3->pykospacing==0.5) (1.12.1)\n",
      "Requirement already satisfied: tensorboard~=2.5 in /home/xtrmstt/.local/lib/python3.7/site-packages (from tensorflow==2.5.3->pykospacing==0.5) (2.8.0)\n",
      "Requirement already satisfied: wheel~=0.35 in /usr/local/lib/python3.7/site-packages (from tensorflow==2.5.3->pykospacing==0.5) (0.37.1)\n",
      "Requirement already satisfied: typing-extensions~=3.7.4 in /home/xtrmstt/.local/lib/python3.7/site-packages (from tensorflow==2.5.3->pykospacing==0.5) (3.7.4.3)\n",
      "Requirement already satisfied: six~=1.15.0 in /home/xtrmstt/.local/lib/python3.7/site-packages (from tensorflow==2.5.3->pykospacing==0.5) (1.15.0)\n",
      "Requirement already satisfied: astunparse~=1.6.3 in /home/xtrmstt/.local/lib/python3.7/site-packages (from tensorflow==2.5.3->pykospacing==0.5) (1.6.3)\n",
      "Requirement already satisfied: termcolor~=1.1.0 in /home/xtrmstt/.local/lib/python3.7/site-packages (from tensorflow==2.5.3->pykospacing==0.5) (1.1.0)\n",
      "Requirement already satisfied: gast==0.4.0 in /home/xtrmstt/.local/lib/python3.7/site-packages (from tensorflow==2.5.3->pykospacing==0.5) (0.4.0)\n",
      "Requirement already satisfied: google-auth-oauthlib<0.5,>=0.4.1 in /home/xtrmstt/.local/lib/python3.7/site-packages (from tensorboard~=2.5->tensorflow==2.5.3->pykospacing==0.5) (0.4.6)\n",
      "Requirement already satisfied: werkzeug>=0.11.15 in /home/xtrmstt/.local/lib/python3.7/site-packages (from tensorboard~=2.5->tensorflow==2.5.3->pykospacing==0.5) (2.1.1)\n",
      "Requirement already satisfied: google-auth<3,>=1.6.3 in /home/xtrmstt/.local/lib/python3.7/site-packages (from tensorboard~=2.5->tensorflow==2.5.3->pykospacing==0.5) (2.6.4)\n",
      "Requirement already satisfied: tensorboard-data-server<0.7.0,>=0.6.0 in /home/xtrmstt/.local/lib/python3.7/site-packages (from tensorboard~=2.5->tensorflow==2.5.3->pykospacing==0.5) (0.6.1)\n",
      "Requirement already satisfied: tensorboard-plugin-wit>=1.6.0 in /home/xtrmstt/.local/lib/python3.7/site-packages (from tensorboard~=2.5->tensorflow==2.5.3->pykospacing==0.5) (1.8.1)\n",
      "Requirement already satisfied: markdown>=2.6.8 in /home/xtrmstt/.local/lib/python3.7/site-packages (from tensorboard~=2.5->tensorflow==2.5.3->pykospacing==0.5) (3.3.6)\n",
      "Requirement already satisfied: setuptools>=41.0.0 in /usr/local/lib/python3.7/site-packages (from tensorboard~=2.5->tensorflow==2.5.3->pykospacing==0.5) (47.1.0)\n",
      "Requirement already satisfied: requests<3,>=2.21.0 in /home/xtrmstt/.local/lib/python3.7/site-packages (from tensorboard~=2.5->tensorflow==2.5.3->pykospacing==0.5) (2.27.1)\n",
      "Requirement already satisfied: rsa<5,>=3.1.4 in /home/xtrmstt/.local/lib/python3.7/site-packages (from google-auth<3,>=1.6.3->tensorboard~=2.5->tensorflow==2.5.3->pykospacing==0.5) (4.8)\n",
      "Requirement already satisfied: cachetools<6.0,>=2.0.0 in /home/xtrmstt/.local/lib/python3.7/site-packages (from google-auth<3,>=1.6.3->tensorboard~=2.5->tensorflow==2.5.3->pykospacing==0.5) (5.0.0)\n",
      "Requirement already satisfied: pyasn1-modules>=0.2.1 in /home/xtrmstt/.local/lib/python3.7/site-packages (from google-auth<3,>=1.6.3->tensorboard~=2.5->tensorflow==2.5.3->pykospacing==0.5) (0.2.8)\n",
      "Requirement already satisfied: requests-oauthlib>=0.7.0 in /home/xtrmstt/.local/lib/python3.7/site-packages (from google-auth-oauthlib<0.5,>=0.4.1->tensorboard~=2.5->tensorflow==2.5.3->pykospacing==0.5) (1.3.1)\n",
      "Requirement already satisfied: importlib-metadata>=4.4 in /home/xtrmstt/.local/lib/python3.7/site-packages (from markdown>=2.6.8->tensorboard~=2.5->tensorflow==2.5.3->pykospacing==0.5) (4.11.3)\n",
      "Requirement already satisfied: idna<4,>=2.5 in /home/xtrmstt/.local/lib/python3.7/site-packages (from requests<3,>=2.21.0->tensorboard~=2.5->tensorflow==2.5.3->pykospacing==0.5) (3.3)\n",
      "Requirement already satisfied: certifi>=2017.4.17 in /home/xtrmstt/.local/lib/python3.7/site-packages (from requests<3,>=2.21.0->tensorboard~=2.5->tensorflow==2.5.3->pykospacing==0.5) (2021.10.8)\n",
      "Requirement already satisfied: urllib3<1.27,>=1.21.1 in /home/xtrmstt/.local/lib/python3.7/site-packages (from requests<3,>=2.21.0->tensorboard~=2.5->tensorflow==2.5.3->pykospacing==0.5) (1.26.9)\n",
      "Requirement already satisfied: charset-normalizer~=2.0.0 in /home/xtrmstt/.local/lib/python3.7/site-packages (from requests<3,>=2.21.0->tensorboard~=2.5->tensorflow==2.5.3->pykospacing==0.5) (2.0.12)\n",
      "Requirement already satisfied: zipp>=0.5 in /home/xtrmstt/.local/lib/python3.7/site-packages (from importlib-metadata>=4.4->markdown>=2.6.8->tensorboard~=2.5->tensorflow==2.5.3->pykospacing==0.5) (3.7.0)\n",
      "Requirement already satisfied: pyasn1<0.5.0,>=0.4.6 in /home/xtrmstt/.local/lib/python3.7/site-packages (from pyasn1-modules>=0.2.1->google-auth<3,>=1.6.3->tensorboard~=2.5->tensorflow==2.5.3->pykospacing==0.5) (0.4.8)\n",
      "Requirement already satisfied: oauthlib>=3.0.0 in /home/xtrmstt/.local/lib/python3.7/site-packages (from requests-oauthlib>=0.7.0->google-auth-oauthlib<0.5,>=0.4.1->tensorboard~=2.5->tensorflow==2.5.3->pykospacing==0.5) (3.2.0)\n",
      "Installing collected packages: argparse\n",
      "Successfully installed argparse-1.4.0\n"
     ]
    }
   ],
   "source": [
    "!pip install git+https://github.com/haven-jeon/PyKoSpacing.git"
   ]
  },
  {
   "cell_type": "code",
   "execution_count": 10,
   "id": "11fd5b9a",
   "metadata": {},
   "outputs": [],
   "source": [
    " from pykospacing import Spacing"
   ]
  },
  {
   "cell_type": "code",
   "execution_count": 72,
   "id": "6559d1af",
   "metadata": {},
   "outputs": [
    {
     "name": "stdout",
     "output_type": "stream",
     "text": [
      "네이버영화\n",
      "네이버영화\n"
     ]
    }
   ],
   "source": [
    "sent = '네이버 영화'\n",
    "new_sent = sent.replace(\" \", '') # 띄어쓰기가 없는 문장으로 만들기\n",
    "\n",
    "print(spacing(new_sent))\n",
    "\n",
    "#rule\n",
    "f = open('pykoSpacing_rule.csv', 'w')\n",
    "index = ['인덱스', '1', '2']\n",
    "word = ['단어', '구렛나룻', '네이버영화']\n",
    "\n",
    "for i in range(len(index)):\n",
    "    f.write(index[i] + ',' + word[i] + '\\n')\n",
    "f.close()\n",
    "\n",
    "spacing = Spacing(rules=[''])\n",
    "spacing.set_rules_by_csv('pykoSpacing_rule.csv', '단어')\n",
    "print(spacing(new_sent))"
   ]
  },
  {
   "cell_type": "markdown",
   "id": "43ea9e79",
   "metadata": {},
   "source": [
    "#### Customized KoNLPy"
   ]
  },
  {
   "cell_type": "code",
   "execution_count": 73,
   "id": "f27c708f",
   "metadata": {},
   "outputs": [
    {
     "name": "stdout",
     "output_type": "stream",
     "text": [
      "Defaulting to user installation because normal site-packages is not writeable\n",
      "Collecting customized_konlpy\n",
      "  Downloading customized_konlpy-0.0.64-py3-none-any.whl (881 kB)\n",
      "\u001b[2K     \u001b[90m━━━━━━━━━━━━━━━━━━━━━━━━━━━━━━━━━━━━━━━\u001b[0m \u001b[32m881.5/881.5 KB\u001b[0m \u001b[31m1.3 MB/s\u001b[0m eta \u001b[36m0:00:00\u001b[0m00:01\u001b[0m00:01\u001b[0m\n",
      "\u001b[?25hRequirement already satisfied: Jpype1>=0.6.1 in /home/xtrmstt/.local/lib/python3.7/site-packages (from customized_konlpy) (1.3.0)\n",
      "Requirement already satisfied: konlpy>=0.4.4 in /home/xtrmstt/.local/lib/python3.7/site-packages (from customized_konlpy) (0.6.0)\n",
      "Requirement already satisfied: typing-extensions in /home/xtrmstt/.local/lib/python3.7/site-packages (from Jpype1>=0.6.1->customized_konlpy) (3.7.4.3)\n",
      "Requirement already satisfied: numpy>=1.6 in /home/xtrmstt/.local/lib/python3.7/site-packages (from konlpy>=0.4.4->customized_konlpy) (1.19.5)\n",
      "Requirement already satisfied: lxml>=4.1.0 in /home/xtrmstt/.local/lib/python3.7/site-packages (from konlpy>=0.4.4->customized_konlpy) (4.8.0)\n",
      "Installing collected packages: customized_konlpy\n",
      "Successfully installed customized_konlpy-0.0.64\n"
     ]
    }
   ],
   "source": [
    "!pip3 install customized_konlpy"
   ]
  },
  {
   "cell_type": "code",
   "execution_count": 75,
   "id": "5959bc1e",
   "metadata": {},
   "outputs": [],
   "source": [
    "from ckonlpy.tag import Twitter"
   ]
  },
  {
   "cell_type": "code",
   "execution_count": 78,
   "id": "dd8feea7",
   "metadata": {},
   "outputs": [
    {
     "data": {
      "text/plain": [
       "['동', '현이', '는', '오늘', '도', '학교', '에', '갑니다', '.']"
      ]
     },
     "execution_count": 78,
     "metadata": {},
     "output_type": "execute_result"
    }
   ],
   "source": [
    "twitter = Twitter()\n",
    "\n",
    "text = '동현이는 오늘도 학교에 갑니다.'\n",
    "twitter.morphs(text)"
   ]
  },
  {
   "cell_type": "code",
   "execution_count": 79,
   "id": "7bb59097",
   "metadata": {},
   "outputs": [
    {
     "data": {
      "text/plain": [
       "['동현이', '는', '오늘', '도', '학교', '에', '갑니다', '.']"
      ]
     },
     "execution_count": 79,
     "metadata": {},
     "output_type": "execute_result"
    }
   ],
   "source": [
    "twitter.add_dictionary('동현이', 'Noun')\n",
    "twitter.morphs(text)"
   ]
  },
  {
   "cell_type": "code",
   "execution_count": 80,
   "id": "2fc0a31f",
   "metadata": {},
   "outputs": [
    {
     "name": "stdout",
     "output_type": "stream",
     "text": [
      "동현이는 오늘도 학교에 갑니다\n"
     ]
    }
   ],
   "source": [
    "text_ns = '동현이는오늘도학교에갑니다'\n",
    "print(spacing(text_ns))"
   ]
  }
 ],
 "metadata": {
  "kernelspec": {
   "display_name": "Python 3 (ipykernel)",
   "language": "python",
   "name": "python3"
  },
  "language_info": {
   "codemirror_mode": {
    "name": "ipython",
    "version": 3
   },
   "file_extension": ".py",
   "mimetype": "text/x-python",
   "name": "python",
   "nbconvert_exporter": "python",
   "pygments_lexer": "ipython3",
   "version": "3.7.9"
  }
 },
 "nbformat": 4,
 "nbformat_minor": 5
}
